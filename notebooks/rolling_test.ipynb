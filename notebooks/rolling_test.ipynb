{
 "cells": [
  {
   "cell_type": "markdown",
   "metadata": {},
   "source": [
    "# Rolling horizon forecast"
   ]
  },
  {
   "cell_type": "code",
   "execution_count": null,
   "metadata": {},
   "outputs": [],
   "source": [
    "import pandas as pd\n",
    "from fbprophet import Prophet\n",
    "from fbprophet.diagnostics import cross_validation\n",
    "from bokeh.io import output_file, show\n",
    "from bokeh.layouts import column\n",
    "from bokeh.plotting import figure\n",
    "\n",
    "# Load some data\n",
    "df = pd.read_pickle('data/pickles/df_aa-offshore_res1h.pickle')\n",
    "# df = pd.read_pickle('data/pickles/df_ps_pv_res1h.pickle')\n",
    "resolution_ = '1H'\n",
    "preconditions = dict(yearly_seasonality = True, daily_seasonality = True)\n",
    "\n",
    "# Prepare data and model for fbprophet\n",
    "df = df.reset_index()                                       # Move the datetime index column as a separate data column \n",
    "df = df.rename(columns={'datetime':'ds', 'actual':'y'})     # Rename the datetime and data column for use in fbprophet\n",
    "model = Prophet(**preconditions)                            # Precondition the model to look for certain trends and seasonalities\n",
    "model.fit(df)\n",
    "\n",
    "# Select some window and resolution for the forecast\n",
    "start_ = model.history_dates.min()\n",
    "end_ = model.history_dates.max()\n",
    "\n",
    "dates = pd.date_range(start = start_, end = end_, freq = resolution_)\n",
    "window = pd.DataFrame({'ds': dates})\n",
    "\n",
    "# Cheap rolling horizon forecast\n",
    "forecast = model.predict(window)\n",
    "df.set_index('ds', inplace=True)\n",
    "forecast.set_index('ds', inplace=True)\n",
    "viz_df = df.join(forecast[['yhat', 'yhat_lower','yhat_upper']], how = 'outer')\n",
    "\n",
    "# # Expensive but proper rolling horizon forecast\n",
    "# initial_ = start_ - model.history_dates.min()               # Training period\n",
    "# horizon_ = resolution_                                      # How far we look ahead (should be equal to the resolution)\n",
    "# period_ = resolution_                                       # Period before we repeat the model (should be equal to the resolution)\n",
    "# df_cv = cross_validation(model, horizon = horizon_, initial = initial_, period = period_)\n"
   ]
  },
  {
   "cell_type": "code",
   "execution_count": null,
   "metadata": {},
   "outputs": [],
   "source": [
    "# Plotting\n",
    "x = viz_df.index\n",
    "y1 = viz_df.y\n",
    "y2 = viz_df.yhat\n",
    "\n",
    "s1 = figure(plot_width=1400, plot_height=750, title=None)\n",
    "s1.circle(x, y1, size=4, color=\"navy\", alpha=0.5)\n",
    "s1.square(x, y2, size=4, color=\"orange\", alpha=0.5)\n",
    "\n",
    "show(s1)"
   ]
  }
 ],
 "metadata": {
  "kernelspec": {
   "display_name": "Python 3",
   "language": "python",
   "name": "python3"
  },
  "language_info": {
   "codemirror_mode": {
    "name": "ipython",
    "version": 3
   },
   "file_extension": ".py",
   "mimetype": "text/x-python",
   "name": "python",
   "nbconvert_exporter": "python",
   "pygments_lexer": "ipython3",
   "version": "3.6.4"
  }
 },
 "nbformat": 4,
 "nbformat_minor": 2
}
