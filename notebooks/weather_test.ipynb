{
 "cells": [
  {
   "cell_type": "markdown",
   "metadata": {},
   "source": [
    "# Inspect forecast"
   ]
  },
  {
   "cell_type": "code",
   "execution_count": null,
   "metadata": {},
   "outputs": [],
   "source": [
    "import pandas as pd\n",
    "# from darksky import forecast\n",
    "import requests\n",
    "from bokeh.io import output_notebook, show\n",
    "from bokeh.plotting import figure\n",
    "from bokeh.palettes import Spectral6\n",
    "\n",
    "output_notebook()   # so show() displays in the notebook"
   ]
  },
  {
   "cell_type": "code",
   "execution_count": null,
   "metadata": {},
   "outputs": [],
   "source": [
    "path_list = ['33.3442655,126.4327353',\n",
    "             '33.5266085,126.3729323',\n",
    "             '33.4459325,126.9488463']\n",
    "wind = []\n",
    "for i, path_ in enumerate(path_list):\n",
    "    response = requests.get('https://darksky.net/forecast/'+path_+'/ca12/en.json')\n",
    "    df = pd.read_json(response.text)\n",
    "    hourly_= df.hourly['data']\n",
    "    wind.append(pd.DataFrame(hourly_).windSpeed.values)\n",
    "#print(wind)"
   ]
  },
  {
   "cell_type": "code",
   "execution_count": null,
   "metadata": {},
   "outputs": [],
   "source": [
    "# Plotting\n",
    "s = figure(plot_width=800, plot_height=400, title=None)\n",
    "\n",
    "x = range(1, len(wind[0])+1)\n",
    "for i, wind_forecast in enumerate(wind):\n",
    "    s.circle(x, wind_forecast, size=4, color=Spectral6[i], alpha=0.5, legend=\"%s\" % path_list[i])\n",
    "\n",
    "show(s)"
   ]
  },
  {
   "cell_type": "code",
   "execution_count": null,
   "metadata": {},
   "outputs": [],
   "source": []
  }
 ],
 "metadata": {
  "kernelspec": {
   "display_name": "Python 3",
   "language": "python",
   "name": "python3"
  },
  "language_info": {
   "codemirror_mode": {
    "name": "ipython",
    "version": 3
   },
   "file_extension": ".py",
   "mimetype": "text/x-python",
   "name": "python",
   "nbconvert_exporter": "python",
   "pygments_lexer": "ipython3",
   "version": "3.6.4"
  }
 },
 "nbformat": 4,
 "nbformat_minor": 1
}
