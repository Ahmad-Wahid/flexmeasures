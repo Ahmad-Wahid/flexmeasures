{
 "cells": [
  {
   "cell_type": "markdown",
   "metadata": {},
   "source": [
    "# Inspect forecast"
   ]
  },
  {
   "cell_type": "code",
   "execution_count": null,
   "metadata": {},
   "outputs": [],
   "source": [
    "import pandas as pd\n",
    "# from darksky import forecast\n",
    "import requests\n",
    "from bokeh.io import output_file, show\n",
    "from bokeh.plotting import figure\n",
    "from bokeh.palettes import Spectral6"
   ]
  },
  {
   "cell_type": "code",
   "execution_count": null,
   "metadata": {},
   "outputs": [],
   "source": [
    "path_list = ['33.3442655,126.4327353',\n",
    "             '33.5266085,126.3729323',\n",
    "             '33.4459325,126.9488463']\n",
    "wind = []\n",
    "for i, path_ in enumerate(path_list):\n",
    "    response = requests.get('https://darksky.net/forecast/'+path_+'/ca12/en.json')\n",
    "    df = pd.read_json(response.text)\n",
    "    hourly_= df.hourly['data']\n",
    "    wind.append(pd.DataFrame(hourly_).windSpeed.values)\n",
    "# print(wind)"
   ]
  },
  {
   "cell_type": "code",
   "execution_count": null,
   "metadata": {},
   "outputs": [],
   "source": [
    "# Plotting\n",
    "s = figure(plot_width=1400, plot_height=750, title=None)\n",
    "\n",
    "x = range(1, len(wind[0])-1)\n",
    "for i, wind_ in enumerate(wind):\n",
    "    y = wind_[0:-2]\n",
    "    s.circle(x, y, size=4, color=Spectral6[i], alpha=0.5)\n",
    "\n",
    "show(s)"
   ]
  },
  {
   "cell_type": "code",
   "execution_count": null,
   "metadata": {},
   "outputs": [],
   "source": [
    "# https://darksky.net/forecast/37.5667,126.9783/ca12/en.json\n",
    "path1 = '37.5667,126.9783'\n",
    "request=Request('https://darksky.net/forecast/'+path1+'/ca12/en.json')\n",
    "response = urlopen(request)\n",
    "elevations = response.read()"
   ]
  },
  {
   "cell_type": "code",
   "execution_count": null,
   "metadata": {},
   "outputs": [],
   "source": [
    "df.index[0] + pd.DateOffset(years=1)"
   ]
  },
  {
   "cell_type": "code",
   "execution_count": null,
   "metadata": {},
   "outputs": [],
   "source": [
    "df = pd.read_pickle('../data/pickles/df_48_l_res1h.pickle')\n",
    "print(df)"
   ]
  },
  {
   "cell_type": "code",
   "execution_count": null,
   "metadata": {},
   "outputs": [],
   "source": [
    "# Plotting\n",
    "hover = plotting.create_hover_tool()\n",
    "fig = plotting.create_asset_graph(df.y, forecasts=df[[\"yhat\", \"yhat_upper\", \"yhat_lower\"]],\n",
    "                                  y_label=\"MW\",\n",
    "                                  hover_tool=hover)\n",
    "show(fig)"
   ]
  },
  {
   "cell_type": "code",
   "execution_count": null,
   "metadata": {},
   "outputs": [],
   "source": [
    "# Plotting\n",
    "x = df.index\n",
    "try:\n",
    "    y1 = df.actual\n",
    "    y2 = df['95']\n",
    "except:\n",
    "    y1 = df.y\n",
    "    y2 = df.yhat\n",
    "    \n",
    "s1 = figure(plot_width=1400, plot_height=750, title=None)\n",
    "s1.circle(x, y1, size=4, color=\"navy\", alpha=0.5)\n",
    "s1.square(x, y2, size=4, color=\"orange\", alpha=0.5)\n",
    "\n",
    "show(s1)"
   ]
  },
  {
   "cell_type": "markdown",
   "metadata": {},
   "source": [
    "# Try storing market data from csv into a pickle"
   ]
  },
  {
   "cell_type": "code",
   "execution_count": null,
   "metadata": {},
   "outputs": [],
   "source": [
    "import pandas as pd\n",
    "from forecasting import make_rolling_forecast\n",
    "from models import Market\n",
    "import models\n",
    "from datetime import date"
   ]
  },
  {
   "cell_type": "code",
   "execution_count": null,
   "metadata": {},
   "outputs": [],
   "source": [
    "markets=[]"
   ]
  },
  {
   "cell_type": "code",
   "execution_count": null,
   "metadata": {},
   "outputs": [],
   "source": [
    "df = pd.read_csv('../data/German day-ahead prices 20140101-20160630.csv', index_col=0, parse_dates = True, names = {'y'})\n",
    "ix = pd.DatetimeIndex(start=df.index[0], periods=len(df.index), freq='1H')\n",
    "df = pd.DataFrame(data=df.y.values, index=ix, columns={'EPEX_DA'})"
   ]
  },
  {
   "cell_type": "code",
   "execution_count": null,
   "metadata": {},
   "outputs": [],
   "source": [
    "market_type = models.market_types['day_ahead']\n",
    "predictions = make_rolling_forecast(df.y, market_type)\n",
    "print(predictions.head)"
   ]
  },
  {
   "cell_type": "code",
   "execution_count": null,
   "metadata": {},
   "outputs": [],
   "source": [
    "res = \"1D\"\n",
    "res_df = df.resample(res).mean()\n",
    "market_col_name = 'EPEX_DA'"
   ]
  },
  {
   "cell_type": "code",
   "execution_count": null,
   "metadata": {},
   "outputs": [],
   "source": [
    "market_df = pd.DataFrame(index=res_df.index, columns=[\"actual\", \"yhat\", \"yhat_upper\", \"yhat_lower\"])\n",
    "market_df.actual = res_df[market_col_name]\n",
    "market = Market(name=market_col_name, market_type_name=market_type)"
   ]
  },
  {
   "cell_type": "code",
   "execution_count": null,
   "metadata": {},
   "outputs": [],
   "source": [
    "for conf in [\"yhat\", \"yhat_upper\", \"yhat_lower\"]:\n",
    "    market_df[conf] = predictions[conf]\n",
    "# market_df.to_pickle(\"../data/pickles/df_%s_res%s.pickle\" % (market.name, res))"
   ]
  },
  {
   "cell_type": "markdown",
   "metadata": {},
   "source": [
    "# Sandbox testing"
   ]
  },
  {
   "cell_type": "code",
   "execution_count": null,
   "metadata": {},
   "outputs": [],
   "source": [
    "df2 = pd.DataFrame({ 'day': pd.Series([date(2012, 1, 1), date(2012, 1, 3)]), 'b' : pd.Series([0.22, 0.3]) })\n",
    "print(df2)\n",
    "df2 = df2.set_index('day')\n",
    "print(df2)\n",
    "ix = pd.DatetimeIndex(start=date(2012, 1, 1), end=date(2012, 1, 31), freq='D')\n",
    "print(ix)\n",
    "df3 = df2.reindex(ix)\n",
    "print(df3)"
   ]
  },
  {
   "cell_type": "code",
   "execution_count": null,
   "metadata": {},
   "outputs": [],
   "source": []
  }
 ],
 "metadata": {
  "kernelspec": {
   "display_name": "Python 3",
   "language": "python",
   "name": "python3"
  },
  "language_info": {
   "codemirror_mode": {
    "name": "ipython",
    "version": 3
   },
   "file_extension": ".py",
   "mimetype": "text/x-python",
   "name": "python",
   "nbconvert_exporter": "python",
   "pygments_lexer": "ipython3",
   "version": "3.6.3"
  }
 },
 "nbformat": 4,
 "nbformat_minor": 1
}
